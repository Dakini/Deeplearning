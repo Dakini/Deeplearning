{
 "cells": [
  {
   "cell_type": "code",
   "execution_count": 1,
   "metadata": {},
   "outputs": [],
   "source": [
    "%reload_ext autoreload\n",
    "%autoreload 2\n",
    "%matplotlib inline"
   ]
  },
  {
   "cell_type": "code",
   "execution_count": 2,
   "metadata": {},
   "outputs": [],
   "source": [
    "import numpy as np\n",
    "import torch\n",
    "from matplotlib import pyplot as plt"
   ]
  },
  {
   "cell_type": "code",
   "execution_count": 3,
   "metadata": {},
   "outputs": [],
   "source": [
    "n=200\n",
    "x = torch.ones(n,2)"
   ]
  },
  {
   "cell_type": "code",
   "execution_count": 38,
   "metadata": {},
   "outputs": [
    {
     "data": {
      "text/plain": [
       "tensor([8.3792e-02, 1.6657e+00, 6.3435e-01, 9.8996e-01, 1.0629e+00, 4.9522e-01,\n",
       "        2.8945e-01, 2.9856e+00, 1.8766e+00, 1.9386e+00, 1.3575e+00, 4.0487e-01,\n",
       "        3.4334e+00, 3.5997e+00, 2.7582e+00, 4.2072e-01, 7.8447e-01, 1.0920e+00,\n",
       "        9.4249e-02, 4.9986e-01, 6.1145e-04, 3.5949e+00, 3.0868e-01, 8.3316e-03,\n",
       "        8.0891e-01, 4.5128e-02, 4.7144e-01, 3.5951e+00, 1.1071e+00, 2.2151e+00,\n",
       "        6.8861e-02, 1.7961e+00, 5.6899e-01, 4.2021e-01, 9.3085e-01, 6.3711e-03,\n",
       "        1.5840e+00, 1.8410e+00, 1.3869e+00, 1.8602e+00, 4.1979e-02, 3.2567e-01,\n",
       "        3.8801e-01, 1.1623e+00, 1.3968e+00, 3.9041e-01, 3.8436e+00, 8.6321e-01,\n",
       "        8.2867e-01, 3.1396e-01, 2.4988e-02, 2.0474e+00, 7.8093e-01, 2.2524e-01,\n",
       "        2.3969e+00, 4.8672e-01, 7.7317e-01, 2.2786e+00, 3.0951e+00, 2.3300e+00,\n",
       "        1.7922e+00, 2.5154e+00, 3.4462e+00, 2.4659e+00, 1.6660e-01, 4.1565e-01,\n",
       "        3.1106e+00, 2.0923e+00, 5.5088e-04, 2.3022e-01, 8.0797e-01, 2.4542e+00,\n",
       "        9.5950e-01, 2.7984e+00, 3.3060e-01, 1.9963e+00, 3.3216e+00, 2.3135e-01,\n",
       "        7.6858e-04, 4.0734e-02, 3.6369e-02, 1.2564e+00, 1.2443e+00, 3.7023e-01,\n",
       "        1.3316e-02, 3.7896e+00, 1.8132e+00, 2.3945e+00, 3.8344e+00, 2.0361e+00,\n",
       "        1.9399e+00, 3.9662e-02, 1.3806e+00, 3.9832e+00, 8.6037e-01, 2.5890e+00,\n",
       "        5.5155e-01, 3.6739e-02, 5.7950e-01, 3.5134e+00, 9.5472e-01, 3.0411e-01,\n",
       "        2.7001e+00, 1.8726e+00, 3.5720e-02, 2.2019e+00, 1.7947e+00, 8.2543e-01,\n",
       "        1.2594e+00, 1.3133e+00, 3.8798e-04, 8.4927e-01, 3.7372e+00, 2.3474e+00,\n",
       "        4.2325e-06, 2.8174e+00, 2.3674e+00, 4.5454e-02, 4.3801e-01, 1.7289e-01,\n",
       "        2.5228e+00, 7.4060e-01, 6.1779e-03, 7.9973e-01, 2.2201e+00, 1.3288e+00,\n",
       "        3.1437e+00, 3.0716e+00, 1.4596e+00, 1.1056e-01, 4.7789e-01, 1.3541e+00,\n",
       "        1.6573e+00, 3.3749e+00, 1.5335e-02, 4.0979e-02, 9.1268e-02, 2.6291e-02,\n",
       "        1.2724e+00, 3.9630e+00, 1.7727e-01, 1.0160e+00, 7.7156e-03, 5.1914e-01,\n",
       "        2.4048e-01, 1.6173e-02, 3.5070e-01, 4.9672e-01, 3.1651e+00, 2.2095e+00,\n",
       "        2.4097e-02, 1.0526e+00, 3.0157e+00, 3.0027e-01, 2.1234e+00, 6.3050e-01,\n",
       "        8.4918e-02, 5.0404e-01, 6.9246e-01, 1.2534e+00, 3.4434e+00, 3.9967e-01,\n",
       "        6.7404e-01, 6.1144e-01, 5.9640e-02, 1.0515e+00, 1.9511e+00, 1.0550e-01,\n",
       "        2.7371e+00, 3.8921e+00, 8.2806e-01, 2.1588e-02, 1.3501e+00, 3.0069e-01,\n",
       "        4.6374e-01, 2.4296e+00, 1.4048e+00, 3.2750e+00, 1.3338e+00, 1.0917e+00,\n",
       "        3.3218e+00, 8.8059e-01, 4.5119e-01, 5.3807e-01, 5.6257e-02, 1.0334e-01,\n",
       "        3.0850e+00, 6.8965e-02, 3.2486e+00, 3.5005e-01, 1.2169e+00, 4.5145e-02,\n",
       "        3.6860e+00, 3.3830e-02, 5.2030e-01, 2.4400e+00, 2.5319e-03, 2.8228e-03,\n",
       "        3.5028e+00, 7.7041e-01])"
      ]
     },
     "execution_count": 38,
     "metadata": {},
     "output_type": "execute_result"
    }
   ],
   "source": [
    "x[:,0].uniform_(-2,2)**2"
   ]
  },
  {
   "cell_type": "code",
   "execution_count": 39,
   "metadata": {},
   "outputs": [],
   "source": [
    "a = torch.tensor([20.,-3])"
   ]
  },
  {
   "cell_type": "code",
   "execution_count": 42,
   "metadata": {},
   "outputs": [],
   "source": [
    "y = x**2@a + torch.rand(n)"
   ]
  },
  {
   "cell_type": "code",
   "execution_count": 43,
   "metadata": {},
   "outputs": [
    {
     "data": {
      "text/plain": [
       "<matplotlib.collections.PathCollection at 0x24b459e5128>"
      ]
     },
     "execution_count": 43,
     "metadata": {},
     "output_type": "execute_result"
    },
    {
     "data": {
      "image/png": "[encoded data removed]",
      "text/plain": [
       "<Figure size 432x288 with 1 Axes>"
      ]
     },
     "metadata": {
      "needs_background": "light"
     },
     "output_type": "display_data"
    }
   ],
   "source": [
    "plt.scatter(x[:,0],y)"
   ]
  },
  {
   "cell_type": "code",
   "execution_count": 67,
   "metadata": {},
   "outputs": [],
   "source": [
    "a = torch.tensor([-50.,80])"
   ]
  },
  {
   "cell_type": "code",
   "execution_count": 45,
   "metadata": {},
   "outputs": [],
   "source": [
    "y_hat = x**2@a"
   ]
  },
  {
   "cell_type": "code",
   "execution_count": 46,
   "metadata": {},
   "outputs": [
    {
     "data": {
      "text/plain": [
       "<matplotlib.collections.PathCollection at 0x24b453fe940>"
      ]
     },
     "execution_count": 46,
     "metadata": {},
     "output_type": "execute_result"
    },
    {
     "data": {
      "image/png": "[encoded data removed]",
      "text/plain": [
       "<Figure size 432x288 with 1 Axes>"
      ]
     },
     "metadata": {
      "needs_background": "light"
     },
     "output_type": "display_data"
    }
   ],
   "source": [
    "plt.scatter(x[:,0],y)\n",
    "plt.scatter(x[:,0],y_hat)"
   ]
  },
  {
   "cell_type": "code",
   "execution_count": 56,
   "metadata": {},
   "outputs": [],
   "source": [
    "def mse(y_hat,y): return ((y_hat-y)**2).mean()"
   ]
  },
  {
   "cell_type": "code",
   "execution_count": 68,
   "metadata": {},
   "outputs": [
    {
     "data": {
      "text/plain": [
       "tensor(6892.1289)"
      ]
     },
     "execution_count": 68,
     "metadata": {},
     "output_type": "execute_result"
    }
   ],
   "source": [
    "mse(y_hat,y)"
   ]
  },
  {
   "cell_type": "code",
   "execution_count": 50,
   "metadata": {},
   "outputs": [],
   "source": [
    "from matplotlib import animation, rc\n",
    "rc('animation', html='jshtml')"
   ]
  },
  {
   "cell_type": "code",
   "execution_count": 69,
   "metadata": {},
   "outputs": [
    {
     "data": {
      "text/plain": [
       "Parameter containing:\n",
       "tensor([-50.,  80.], requires_grad=True)"
      ]
     },
     "execution_count": 69,
     "metadata": {},
     "output_type": "execute_result"
    }
   ],
   "source": [
    "a = torch.nn.Parameter(a); a"
   ]
  },
  {
   "cell_type": "code",
   "execution_count": 80,
   "metadata": {},
   "outputs": [],
   "source": [
    "def update():\n",
    "    y_hat = x**2@a\n",
    "    loss = mse(y_hat, y)\n",
    "    if t % 10 ==0:\n",
    "        print(loss)\n",
    "    loss.backward()\n",
    "    with torch.no_grad():\n",
    "        a.sub_(lr*a.grad)\n",
    "        a.grad.zero_()"
   ]
  },
  {
   "cell_type": "code",
   "execution_count": 81,
   "metadata": {},
   "outputs": [],
   "source": [
    "lr = 1e-1"
   ]
  },
  {
   "cell_type": "code",
   "execution_count": 82,
   "metadata": {},
   "outputs": [
    {
     "name": "stdout",
     "output_type": "stream",
     "text": [
      "tensor(6892.1289, grad_fn=<MeanBackward1>)\n",
      "tensor(857.8231, grad_fn=<MeanBackward1>)\n",
      "tensor(177.1441, grad_fn=<MeanBackward1>)\n",
      "tensor(36.6379, grad_fn=<MeanBackward1>)\n",
      "tensor(7.6345, grad_fn=<MeanBackward1>)\n",
      "tensor(1.6477, grad_fn=<MeanBackward1>)\n",
      "tensor(0.4118, grad_fn=<MeanBackward1>)\n",
      "tensor(0.1567, grad_fn=<MeanBackward1>)\n",
      "tensor(0.1041, grad_fn=<MeanBackward1>)\n",
      "tensor(0.0932, grad_fn=<MeanBackward1>)\n"
     ]
    }
   ],
   "source": [
    "for t in range(100):\n",
    "    update()"
   ]
  },
  {
   "cell_type": "code",
   "execution_count": 83,
   "metadata": {},
   "outputs": [
    {
     "data": {
      "text/plain": [
       "Parameter containing:\n",
       "tensor([19.9617, -2.4395], requires_grad=True)"
      ]
     },
     "execution_count": 83,
     "metadata": {},
     "output_type": "execute_result"
    }
   ],
   "source": [
    "a"
   ]
  },
  {
   "cell_type": "code",
   "execution_count": 84,
   "metadata": {},
   "outputs": [],
   "source": [
    "a = torch.tensor([20.,-3]) # original tensor"
   ]
  },
  {
   "cell_type": "code",
   "execution_count": null,
   "metadata": {},
   "outputs": [],
   "source": []
  }
 ],
 "metadata": {
  "kernelspec": {
   "display_name": "Python 3",
   "language": "python",
   "name": "python3"
  },
  "language_info": {
   "codemirror_mode": {
    "name": "ipython",
    "version": 3
   },
   "file_extension": ".py",
   "mimetype": "text/x-python",
   "name": "python",
   "nbconvert_exporter": "python",
   "pygments_lexer": "ipython3",
   "version": "3.7.1"
  }
 },
 "nbformat": 4,
 "nbformat_minor": 2
}
